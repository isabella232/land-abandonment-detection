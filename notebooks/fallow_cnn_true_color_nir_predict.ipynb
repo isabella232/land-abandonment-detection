{
 "cells": [
  {
   "cell_type": "code",
   "execution_count": null,
   "metadata": {},
   "outputs": [],
   "source": [
    "%matplotlib inline\n",
    "\n",
    "import pandas as pd\n",
    "import numpy as np\n",
    "import rasterio as rs\n",
    "import seaborn as sns\n",
    "import os\n",
    "\n",
    "from keras.models import Sequential, load_model\n",
    "from keras.layers import Dense, Dropout, Flatten, BatchNormalization, Activation\n",
    "from keras.layers import Conv2D, MaxPool2D\n",
    "from keras.optimizers import Adam\n",
    "from keras.callbacks import EarlyStopping, ReduceLROnPlateau\n",
    "from keras.utils.vis_utils import plot_model\n",
    "from keras.utils import plot_model\n",
    "from matplotlib import pyplot as plt\n",
    "from rasterio.plot import reshape_as_image\n",
    "from rasterio.enums import Resampling\n",
    "from sklearn.model_selection import train_test_split\n",
    "from sklearn.metrics import confusion_matrix\n",
    "from sklearn.metrics import roc_curve, auc, roc_auc_score\n",
    "from sklearn.utils import class_weight\n",
    "from tqdm import tqdm\n",
    "\n",
    "seed = 0\n",
    "np.random.seed(seed)\n",
    "palette = sns.color_palette(\"coolwarm\", 5)\n",
    "tqdm.pandas()"
   ]
  },
  {
   "cell_type": "code",
   "execution_count": null,
   "metadata": {},
   "outputs": [],
   "source": [
    "model = load_model('../models/fallow_full.h5')"
   ]
  },
  {
   "cell_type": "code",
   "execution_count": null,
   "metadata": {},
   "outputs": [],
   "source": [
    "plot_model(model, to_file='../models/fallow_full.png')"
   ]
  },
  {
   "cell_type": "code",
   "execution_count": null,
   "metadata": {},
   "outputs": [],
   "source": [
    "df = pd.read_csv('../data/predict.csv')"
   ]
  },
  {
   "cell_type": "code",
   "execution_count": null,
   "metadata": {},
   "outputs": [],
   "source": [
    "out_shape=(4, 50, 50)\n",
    "resampling=Resampling.nearest \n",
    "\n",
    "data_path = '../data/sentinel/predict'\n",
    "\n",
    "def calculate_band(row):\n",
    "    raster = rs.open('%s/%s/%s' % (data_path, row['id'], row['file'])).read(\n",
    "        out_shape=out_shape, resampling=resampling\n",
    "    )\n",
    "    image = reshape_as_image(raster)\n",
    "    return image\n",
    "\n",
    "def calculate_correctness(row):\n",
    "    image = row['image']\n",
    "    return np.count_nonzero(image) / image.size\n",
    "    \n",
    "df['image'] = df.progress_apply(calculate_band, axis=1)\n",
    "df['correctness'] = df.progress_apply(calculate_correctness, axis=1)\n",
    "\n",
    "df.head()"
   ]
  },
  {
   "cell_type": "code",
   "execution_count": null,
   "metadata": {},
   "outputs": [],
   "source": [
    "sns.distplot(df.correctness, bins=20, kde=False, rug=True)"
   ]
  },
  {
   "cell_type": "code",
   "execution_count": null,
   "metadata": {},
   "outputs": [],
   "source": [
    "df = df[df['correctness'] >= 0.9]\n",
    "\n",
    "y_pred = model.predict(x=np.array(df.image.tolist()), verbose=1)"
   ]
  },
  {
   "cell_type": "code",
   "execution_count": null,
   "metadata": {},
   "outputs": [],
   "source": [
    "def classify(row):\n",
    "    if(row['activation'] > 0.5):\n",
    "        return 1\n",
    "    else:\n",
    "        return 0\n",
    "\n",
    "df['activation'] = y_pred\n",
    "df['label'] = df.progress_apply(classify, axis=1)\n",
    "\n",
    "result = df[['id', 'activation', 'label']]\n",
    "result.to_csv('../data/result.csv')\n",
    "result.head()"
   ]
  },
  {
   "cell_type": "code",
   "execution_count": null,
   "metadata": {},
   "outputs": [],
   "source": []
  }
 ],
 "metadata": {
  "kernelspec": {
   "display_name": "Python 3",
   "language": "python",
   "name": "python3"
  },
  "language_info": {
   "codemirror_mode": {
    "name": "ipython",
    "version": 3
   },
   "file_extension": ".py",
   "mimetype": "text/x-python",
   "name": "python",
   "nbconvert_exporter": "python",
   "pygments_lexer": "ipython3",
   "version": "3.6.8"
  }
 },
 "nbformat": 4,
 "nbformat_minor": 2
}