{
 "cells": [
  {
   "cell_type": "code",
   "execution_count": null,
   "metadata": {},
   "outputs": [],
   "source": [
    "# https://sentinelhub-py.readthedocs.io/en/latest/configure.html#\n",
    "\n",
    "%matplotlib inline\n",
    "%reload_ext autoreload\n",
    "%autoreload 2\n",
    "\n",
    "import pandas as pd\n",
    "import numpy as np\n",
    "import rasterio as rs\n",
    "import seaborn as sns\n",
    "import glob\n",
    "import matplotlib.pyplot as plt\n",
    "import os\n",
    "from PIL import Image\n",
    "\n",
    "from geopy.distance import VincentyDistance\n",
    "from sentinelhub import WebFeatureService, BBox, CRS, DataSource, WmsRequest, WcsRequest, MimeType, get_area_info\n",
    "from IPython.display import clear_output\n",
    "from rasterio.plot import reshape_as_image\n",
    "\n",
    "palette = sns.color_palette(\"coolwarm\", 5)\n",
    "instance_id = ''"
   ]
  },
  {
   "cell_type": "code",
   "execution_count": null,
   "metadata": {},
   "outputs": [],
   "source": [
    "def grade(row):\n",
    "    if row['grade'] > 0:\n",
    "        val = 1\n",
    "    else:\n",
    "        val = 0\n",
    "    return val\n",
    "\n",
    "df = pd.read_csv('../data/fallow_dataset.csv', dtype={'id':str})\n",
    "print('gathered %s samples' % len(df))\n",
    "\n",
    "df['label'] = df.apply(grade, axis=1)\n",
    "\n",
    "df.head()"
   ]
  },
  {
   "cell_type": "code",
   "execution_count": null,
   "metadata": {},
   "outputs": [],
   "source": [
    "sns.countplot(x='grade', data=df, palette=palette)"
   ]
  },
  {
   "cell_type": "code",
   "execution_count": null,
   "metadata": {},
   "outputs": [],
   "source": [
    "sns.boxplot(x='grade', y='grade_area', data=df, palette=palette)"
   ]
  },
  {
   "cell_type": "code",
   "execution_count": null,
   "metadata": {},
   "outputs": [],
   "source": [
    "sns.countplot(x='label', data=df, palette=palette)"
   ]
  },
  {
   "cell_type": "code",
   "execution_count": null,
   "metadata": {},
   "outputs": [],
   "source": [
    "sns.boxplot(x='label', y='grade_area', data=df, palette=palette)"
   ]
  },
  {
   "cell_type": "code",
   "execution_count": null,
   "metadata": {},
   "outputs": [],
   "source": [
    "df = df[df['grade_area'] >= 0.15]\n",
    "print('after filtering %s samples' % len(df))"
   ]
  },
  {
   "cell_type": "code",
   "execution_count": null,
   "metadata": {},
   "outputs": [],
   "source": [
    " def plot_image(image, factor=1):\n",
    "    fig = plt.subplots(nrows=1, ncols=1, figsize=(15, 7))\n",
    "\n",
    "    if np.issubdtype(image.dtype, np.floating):\n",
    "        plt.imshow(np.minimum(image * factor, 1))\n",
    "    else:\n",
    "        plt.imshow(image)\n",
    "\n",
    "coords_visuals_wgs84 = [20.050616,51.439310,20.057914,51.443872]\n",
    "bbox_visuals = BBox(bbox=coords_visuals_wgs84, crs=CRS.WGS84)\n",
    "\n",
    "wms_visuals_request = WcsRequest(layer='FALLOWINITIAL',\n",
    "                                bbox=bbox_visuals,\n",
    "                                time='latest',\n",
    "                                resx='10m', resy='10m',\n",
    "                                maxcc=0.1,\n",
    "                                image_format=MimeType.TIFF_d32f,\n",
    "                                instance_id=instance_id) \n",
    "\n",
    "wms_visuals = wms_visuals_request.get_data()\n",
    "plot_image(wms_visuals[-1][:, :, 3])"
   ]
  },
  {
   "cell_type": "code",
   "execution_count": null,
   "metadata": {},
   "outputs": [],
   "source": [
    "def update_progress(progress):\n",
    "    bar_length = 20\n",
    "    if isinstance(progress, int):\n",
    "        progress = float(progress)\n",
    "    if not isinstance(progress, float):\n",
    "        progress = 0\n",
    "    if progress < 0:\n",
    "        progress = 0\n",
    "    if progress >= 1:\n",
    "        progress = 1\n",
    "    \n",
    "    block = int(round(bar_length * progress)) \n",
    "    clear_output(wait = True)\n",
    "    text = \"Progress: [{0}] {1:.1f}%\".format(\"#\" * block + \"-\" * (bar_length - block), progress * 100)\n",
    "    print(text)    "
   ]
  },
  {
   "cell_type": "code",
   "execution_count": null,
   "metadata": {},
   "outputs": [],
   "source": [
    "acquisition_time = [('%s-06-01' % y, '%s-09-30' % y) for y in ['2015', '2016', '2017', '2018', '2019']]\n",
    "maxcc = 0.05\n",
    "\n",
    "directory_template = '../data/sentinel/%s/%s'\n",
    "\n",
    "for i, (index, row) in enumerate(df.iterrows()):\n",
    "    update_progress(i / len(df))\n",
    "\n",
    "    data_folder = directory_template % (row['researcher'], row['id'])\n",
    "    \n",
    "    if not os.path.exists(data_folder):  \n",
    "        coords_wgs84 = [row['min_lng'], row['min_lat'], row['max_lng'], row['max_lat']]\n",
    "          \n",
    "        for time in acquisition_time:    \n",
    "            wms_fallow_request = WcsRequest(data_folder=data_folder,\n",
    "                                            layer='FALLOWINITIAL',\n",
    "                                            bbox=BBox(bbox=coords_wgs84, crs=CRS.WGS84),\n",
    "                                            time=time,\n",
    "                                            resx='10m', resy='10m',\n",
    "                                            maxcc=maxcc,\n",
    "                                            image_format=MimeType.TIFF_d32f,\n",
    "                                            instance_id=instance_id)\n",
    "\n",
    "            wms_fallow_request.get_data(save_data=True, redownload=False)\n",
    "            \n",
    "update_progress(1)"
   ]
  },
  {
   "cell_type": "code",
   "execution_count": null,
   "metadata": {},
   "outputs": [],
   "source": [
    "ids = []\n",
    "researchers = []\n",
    "areas = []\n",
    "files = []\n",
    "dates = []\n",
    "grades = []\n",
    "widths = []\n",
    "heights = []\n",
    "bands = []\n",
    "\n",
    "tiff_glob = '../data/sentinel/%s/%s/*.tiff'\n",
    "\n",
    "for i, (index, row) in enumerate(df.iterrows()):\n",
    "    update_progress(i / len(df))\n",
    "    data_folder_glob = tiff_glob % (row['researcher'], row['id'])\n",
    "\n",
    "    for f in glob.glob(data_folder_glob):\n",
    "        raster = rs.open(f).read()\n",
    "        image = reshape_as_image(raster) \n",
    "        \n",
    "        widths.append(image.shape[1])\n",
    "        heights.append(image.shape[0])\n",
    "        bands.append(image.shape[2])\n",
    "        \n",
    "        grades.append(row['grade'])\n",
    "        ids.append(row['id'])\n",
    "        areas.append(row['grade_area'])\n",
    "        researchers.append(row['researcher'])\n",
    "        files.append(os.path.basename(f))\n",
    "        dates.append(f.split('_')[7])\n",
    " \n",
    "\n",
    "training_data = pd.DataFrame({\n",
    "    'id': ids,\n",
    "    'researcher': researchers,\n",
    "    'area': areas,\n",
    "    'file': files,\n",
    "    'date': dates,\n",
    "    'grade': grades,\n",
    "    'w': widths,\n",
    "    'h': heights,\n",
    "    'b': bands\n",
    "})  \n",
    "training_data['label'] = training_data.apply(grade, axis=1)\n",
    "training_data.to_csv('../data/training.csv')\n",
    "\n",
    "update_progress(1) "
   ]
  },
  {
   "cell_type": "code",
   "execution_count": null,
   "metadata": {},
   "outputs": [],
   "source": [
    "sns.countplot(x='grade', data=training_data, palette=palette)"
   ]
  },
  {
   "cell_type": "code",
   "execution_count": null,
   "metadata": {},
   "outputs": [],
   "source": [
    "sns.countplot(x='label', data=training_data, palette=palette)"
   ]
  }
 ],
 "metadata": {
  "kernelspec": {
   "display_name": "Python 3",
   "language": "python",
   "name": "python3"
  },
  "language_info": {
   "codemirror_mode": {
    "name": "ipython",
    "version": 3
   },
   "file_extension": ".py",
   "mimetype": "text/x-python",
   "name": "python",
   "nbconvert_exporter": "python",
   "pygments_lexer": "ipython3",
   "version": "3.6.8"
  }
 },
 "nbformat": 4,
 "nbformat_minor": 2
}