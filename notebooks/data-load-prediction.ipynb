{
 "cells": [
  {
   "cell_type": "code",
   "execution_count": null,
   "metadata": {},
   "outputs": [],
   "source": [
    "# https://sentinelhub-py.readthedocs.io/en/latest/configure.html#\n",
    "\n",
    "%matplotlib inline\n",
    "%reload_ext autoreload\n",
    "%autoreload 2\n",
    "\n",
    "import pandas as pd\n",
    "import numpy as np\n",
    "import rasterio as rs\n",
    "import seaborn as sns\n",
    "import glob\n",
    "import matplotlib.pyplot as plt\n",
    "import os\n",
    "import datetime\n",
    "\n",
    "from PIL import Image\n",
    "from sentinelhub import WebFeatureService, BBox, CRS, DataSource, WmsRequest, WcsRequest, MimeType, get_area_info\n",
    "from IPython.display import clear_output\n",
    "from rasterio.plot import reshape_as_image\n",
    "\n",
    "palette = sns.color_palette(\"coolwarm\", 5)\n",
    "instance_id = ''"
   ]
  },
  {
   "cell_type": "code",
   "execution_count": null,
   "metadata": {},
   "outputs": [],
   "source": [
    "df = pd.read_csv('../data/prediction_dataset.csv', dtype={'id':str})\n",
    "print('gathered %s samples' % len(df))\n",
    "\n",
    "df.head()"
   ]
  },
  {
   "cell_type": "code",
   "execution_count": null,
   "metadata": {},
   "outputs": [],
   "source": [
    " def plot_image(image, factor=1):\n",
    "    fig = plt.subplots(nrows=1, ncols=1, figsize=(15, 7))\n",
    "\n",
    "    if np.issubdtype(image.dtype, np.floating):\n",
    "        plt.imshow(np.minimum(image * factor, 1))\n",
    "    else:\n",
    "        plt.imshow(image)\n",
    "\n",
    "coords_visuals_wgs84 = [20.303942, 51.420241, 20.311623, 51.425043]\n",
    "bbox_visuals = BBox(bbox=coords_visuals_wgs84, crs=CRS.WGS84)\n",
    "\n",
    "wms_visuals_request = WcsRequest(layer='FALLOWINITIAL',\n",
    "                                bbox=bbox_visuals,\n",
    "                                time='latest',\n",
    "                                resx='10m', resy='10m',\n",
    "                                maxcc=0.03,\n",
    "                                instance_id=instance_id) \n",
    "\n",
    "wms_visuals = wms_visuals_request.get_data()\n",
    "plot_image(wms_visuals[-1][:, :, 3])"
   ]
  },
  {
   "cell_type": "code",
   "execution_count": null,
   "metadata": {},
   "outputs": [],
   "source": [
    "def update_progress(progress):\n",
    "    bar_length = 20\n",
    "    if isinstance(progress, int):\n",
    "        progress = float(progress)\n",
    "    if not isinstance(progress, float):\n",
    "        progress = 0\n",
    "    if progress < 0:\n",
    "        progress = 0\n",
    "    if progress >= 1:\n",
    "        progress = 1\n",
    "    \n",
    "    block = int(round(bar_length * progress)) \n",
    "    clear_output(wait = True)\n",
    "    text = \"Progress: [{0}] {1:.1f}%\".format(\"#\" * block + \"-\" * (bar_length - block), progress * 100)\n",
    "    print(text)    "
   ]
  },
  {
   "cell_type": "code",
   "execution_count": null,
   "metadata": {},
   "outputs": [],
   "source": [
    "acquisition_time = ('2018-08-01', '2018-08-31')\n",
    "maxcc = 0.03\n",
    "\n",
    "directory_template = '../data/sentinel/predict/%s'\n",
    "\n",
    "for i, (index, row) in enumerate(df.iterrows()):\n",
    "    update_progress(i / len(df))\n",
    "\n",
    "    data_folder = directory_template % row['id']\n",
    "    \n",
    "    if not os.path.exists(data_folder):  \n",
    "        coords_wgs84 = [row['min_lng'], row['min_lat'], row['max_lng'], row['max_lat']]\n",
    "            \n",
    "        wms_fallow_request = WcsRequest(data_folder=data_folder,\n",
    "                                        layer='FALLOWINITIAL',\n",
    "                                        bbox=BBox(bbox=coords_wgs84, crs=CRS.WGS84),\n",
    "                                        time=acquisition_time,\n",
    "                                        resx='10m', resy='10m',\n",
    "                                        maxcc=maxcc,\n",
    "                                        time_difference=datetime.timedelta(days=31),\n",
    "                                        image_format=MimeType.TIFF_d32f,\n",
    "                                        instance_id=instance_id)\n",
    "\n",
    "        wms_fallow_request.get_data(save_data=True, redownload=False)\n",
    "            \n",
    "update_progress(1)"
   ]
  },
  {
   "cell_type": "code",
   "execution_count": null,
   "metadata": {},
   "outputs": [],
   "source": [
    "ids = []\n",
    "files = []\n",
    "dates = []\n",
    "\n",
    "tiff_glob = '../data/sentinel/predict/*/*.tiff'\n",
    "\n",
    "for f in glob.glob(tiff_glob): \n",
    "    files.append(os.path.basename(f))\n",
    "    ids.append(os.path.basename(os.path.dirname(f)))\n",
    "    dates.append(f.split('_')[7])\n",
    " \n",
    "predict_data = pd.DataFrame({\n",
    "    'id': ids,\n",
    "    'file': files,\n",
    "    'date': dates,\n",
    "})  \n",
    "predict_data.to_csv('../data/predict.csv')\n",
    "\n",
    "predict_data.head()"
   ]
  }
 ],
 "metadata": {
  "kernelspec": {
   "display_name": "Python 3",
   "language": "python",
   "name": "python3"
  },
  "language_info": {
   "codemirror_mode": {
    "name": "ipython",
    "version": 3
   },
   "file_extension": ".py",
   "mimetype": "text/x-python",
   "name": "python",
   "nbconvert_exporter": "python",
   "pygments_lexer": "ipython3",
   "version": "3.6.8"
  }
 },
 "nbformat": 4,
 "nbformat_minor": 2
}